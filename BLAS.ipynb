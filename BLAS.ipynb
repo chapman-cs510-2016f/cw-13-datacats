{
 "cells": [
  {
   "cell_type": "markdown",
   "metadata": {
    "collapsed": false
   },
   "source": [
    "In a Jupyter notebook BLAS.ipynb, explain the code in detail. How does this code compare in complexity to the code you wrote for Stack and Queue?\n",
    "The first thing the code does is it creates a matrix of complex long doubles and we create three 3x3 matrices. It was able to do this using the predefined C++ libraries. Using two nested for loops it iterates through each three matrices and inputs values based on each matrices specific code. For m, we did 3 * r+c where r is the row number and c is the column number. For n, we did r+c x 1i. For o, we did std::pow(n(r,c),2) where pow is from the standard library and takes the matrix to the power of 2. Lastly, we print each matrix which is displayed in row-majored order. We also did simple matrix arthimetic between the three matrices and outputed the results. \n",
    "\n",
    "Explain what the notation <type> means in, e.g., complex<long double>.\n",
    "In this case, when calling the command to create a matrix, the <type> specifies the variable type that is being used/created inside the matrix. So for this example, complex<long double> will create a matrix of complex varibles of the type long double. It could have also been specified as complex<int> and created integers instead. \n",
    "\n",
    "Are BLAS matrices row-major or column-major? How can you tell based on how the code is written?\n",
    "For BLAS, the code is written to implement each row first; i.e. going through each row first, and then adding in the values by column. We can tell this from the nested for loop, we increment the row first, and then the column. Also, when printing out the matrix, the terminal prints out in row-majored order. \n",
    "\n",
    "Write a new program that uses BLAS to create a complex plane in a similar way to your python code from before. Print the resulting matrix of complex numbers to the screen in a pretty way to demonstrate that your code works.\n",
    "The following below is a copy of the terminal display of our implementation of the matrix of complex numbers. Our file is called new_matrix.cc\n",
    "\n"
   ]
  },
  {
   "cell_type": "markdown",
   "metadata": {},
   "source": [
    "~/Classwork/cw-13-datacats/src/blas$ ./new_matrix\n",
    "m:\n",
    "[11,11](((-5,-5),(-5,-4),(-5,-3),(-5,-2),(-5,-1),(-5,0),(-5,1),(-5,2),(-5,3),(-5,4),(-5,5)),\n",
    "((-4,-5),(-4,-4),(-4,-3),(-4,-2),(-4,-1),(-4,0),(-4,1),(-4,2),(-4,3),(-4,4),(-4,5)),\n",
    "((-3,-5),(-3,-4),(-3,-3),(-3,-2),(-3,-1),(-3,0),(-3,1),(-3,2),(-3,3),(-3,4),(-3,5)),\n",
    "((-2,-5),(-2,-4),(-2,-3),(-2,-2),(-2,-1),(-2,0),(-2,1),(-2,2),(-2,3),(-2,4),(-2,5)),\n",
    "((-1,-5),(-1,-4),(-1,-3),(-1,-2),(-1,-1),(-1,0),(-1,1),(-1,2),(-1,3),(-1,4),(-1,5)),\n",
    "((0,-5),(0,-4),(0,-3),(0,-2),(0,-1),(0,0),(0,1),(0,2),(0,3),(0,4),(0,5)),\n",
    "((1,-5),(1,-4),(1,-3),(1,-2),(1,-1),(1,0),(1,1),(1,2),(1,3),(1,4),(1,5)),\n",
    "((2,-5),(2,-4),(2,-3),(2,-2),(2,-1),(2,0),(2,1),(2,2),(2,3),(2,4),(2,5)),\n",
    "((3,-5),(3,-4),(3,-3),(3,-2),(3,-1),(3,0),(3,1),(3,2),(3,3),(3,4),(3,5)),\n",
    "((4,-5),(4,-4),(4,-3),(4,-2),(4,-1),(4,0),(4,1),(4,2),(4,3),(4,4),(4,5)),\n",
    "((5,-5),(5,-4),(5,-3),(5,-2),(5,-1),(5,0),(5,1),(5,2),(5,3),(5,4),(5,5)))"
   ]
  }
 ],
 "metadata": {
  "kernelspec": {
   "display_name": "Python 2 (SageMath)",
   "language": "python",
   "name": "python2"
  },
  "language_info": {
   "codemirror_mode": {
    "name": "ipython",
    "version": 2
   },
   "file_extension": ".py",
   "mimetype": "text/x-python",
   "name": "python",
   "nbconvert_exporter": "python",
   "pygments_lexer": "ipython2",
   "version": "2.7.10"
  }
 },
 "nbformat": 4,
 "nbformat_minor": 0
}
