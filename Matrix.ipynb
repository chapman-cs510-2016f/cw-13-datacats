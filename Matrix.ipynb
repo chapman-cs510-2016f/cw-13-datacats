{
 "cells": [
  {
   "cell_type": "markdown",
   "metadata": {},
   "source": [
    "# CW-13 Matrix\n",
    "#### Simrath Ratra & Andrew Nguyen "
   ]
  },
  {
   "cell_type": "markdown",
   "metadata": {
    "collapsed": false
   },
   "source": [
    "In a Jupyter notebook Matrix.ipynb, explain the code in detail: The code starts off with the default constructor. There is a previously defined vector called mat and we resize that vector to make it equal to the number of rows as well as columns that we create. Next, our code uses the \"rule of three\" which makes the copy constructor, destructor and assignment operator. Then, there is a function that allows us to access the number of rows and columns and we are also able to access individual elements within the matrix. There is a specific function that allows us to read the individual elements and another one that allows us to read and write over the individual elements. Last, we create a overload operate for the addition of two matrices. This defines our definition of matrix addition. \n",
    "\n",
    "Explain what a template is in C++, and what it allows that is impossible in C:\n",
    "A template in C++ is a way to write code that is independent of any type. Templates are used to define and create functions and classes. What a template allows you to do is not specify a specific type for our created class in our code. The benefits of this is when we create the class type in our main function, we declare the type that we want for the class then. This means we can create multiple instances of the class, each with different types such as int, long double, complex, or even string. Without the template, we can only create the class of the type that we specified in the code's creation.\n",
    "\n",
    "Explain what operator-overloading is, and which operators are overloaded here.\n",
    "Operator overload is us defining how we want an operator to function for our class. We specifically do this to the '=' and the '+' operators. \n",
    "\n",
    "\n"
   ]
  }
 ],
 "metadata": {
  "kernelspec": {
   "display_name": "Python 2 (SageMath)",
   "language": "python",
   "name": "python2"
  },
  "language_info": {
   "codemirror_mode": {
    "name": "ipython",
    "version": 2
   },
   "file_extension": ".py",
   "mimetype": "text/x-python",
   "name": "python",
   "nbconvert_exporter": "python",
   "pygments_lexer": "ipython2",
   "version": "2.7.10"
  }
 },
 "nbformat": 4,
 "nbformat_minor": 0
}
